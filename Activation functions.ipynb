{
 "cells": [
  {
   "cell_type": "markdown",
   "id": "a90910b0",
   "metadata": {},
   "source": [
    "### Activation Functions of Deep Learning"
   ]
  },
  {
   "cell_type": "markdown",
   "id": "9e5517b3",
   "metadata": {},
   "source": [
    "(1) Linear: Regression\n",
    "(2) Relu: Nonlinear\n",
    "(3) Sigmoid: NonLinear. Binary\n",
    "(4) tanh: Nonlinear. Two classes\n",
    "(5) Softmax: Nonlinear. Multiclass"
   ]
  },
  {
   "cell_type": "markdown",
   "id": "1d5823ee",
   "metadata": {},
   "source": [
    "#### 1. Linear Activation Function"
   ]
  },
  {
   "cell_type": "code",
   "execution_count": 2,
   "id": "678b060b",
   "metadata": {},
   "outputs": [],
   "source": [
    "# Y = mx + c\n",
    "\n",
    "# Y = dep\n",
    "# X = ind\n",
    "# m = slope\n",
    "# c = constant\n",
    "\n",
    "# Y = 10\n",
    "\n",
    "# slope = (Y2 - Y1) / (X2 - X1)\n",
    "\n",
    "# C\n",
    "\n",
    "# i.  Matplotlib\n",
    "# ii. Plotly\n",
    "# iii. Seaborn\n",
    "# iv. Bokeh\n",
    "# v. D3.js\n",
    "# magic function\n",
    "import math \n",
    "import numpy as np # Linear algebra\n",
    "import matplotlib.pyplot as plt\n",
    "%matplotlib inline"
   ]
  },
  {
   "cell_type": "code",
   "execution_count": 3,
   "id": "869a5d45",
   "metadata": {},
   "outputs": [],
   "source": [
    "# Take Few random Numbers\n",
    "# number = np.random.rand(10) # Positive Numbers\n",
    "# number = np.random.randn(10) # Both Positive and Negative # Distribution\n",
    "# number = np.random.randint(10) # Only int number\n",
    "# number = np.random.randint(1, 10, 5) # (Start, End , Sample size)\n",
    "# number"
   ]
  },
  {
   "cell_type": "code",
   "execution_count": 4,
   "id": "e02e5e42",
   "metadata": {},
   "outputs": [],
   "source": [
    "randomMNumber = np.arange(-20.0, 20.0, 0.2) # continiues value"
   ]
  },
  {
   "cell_type": "code",
   "execution_count": 5,
   "id": "b3a863d2",
   "metadata": {},
   "outputs": [],
   "source": [
    "def linearFunction(number):\n",
    "    a = [] # list\n",
    "    # loop\n",
    "    for i in number:\n",
    "        a.append(i) # add value on the list at last postition\n",
    "    return a"
   ]
  },
  {
   "cell_type": "code",
   "execution_count": 6,
   "id": "d705b091",
   "metadata": {},
   "outputs": [],
   "source": [
    "#print(linearFunction(randomMNumber))"
   ]
  },
  {
   "cell_type": "code",
   "execution_count": 7,
   "id": "5e04594e",
   "metadata": {},
   "outputs": [
    {
     "data": {
      "image/png": "[encoded data removed]",
      "text/plain": [
       "<Figure size 432x288 with 1 Axes>"
      ]
     },
     "metadata": {
      "needs_background": "light"
     },
     "output_type": "display_data"
    }
   ],
   "source": [
    "linearLine = linearFunction(randomMNumber)\n",
    "plt.plot(randomMNumber, linearLine)\n",
    "\n",
    "# axis\n",
    "ax =plt.gca()\n",
    "plt.show()"
   ]
  },
  {
   "cell_type": "code",
   "execution_count": 8,
   "id": "b5b8496c",
   "metadata": {},
   "outputs": [],
   "source": [
    "# Number pattern\n",
    "\n",
    "#     i. Continues\n",
    "#         i. Regression\n",
    "#     ii. Discreate\n",
    "#         ii. Categorical or Classification"
   ]
  },
  {
   "cell_type": "markdown",
   "id": "4092d56f",
   "metadata": {},
   "source": [
    "### 2. Relu Activation Function"
   ]
  },
  {
   "cell_type": "code",
   "execution_count": 9,
   "id": "72879bf2",
   "metadata": {},
   "outputs": [],
   "source": [
    "import math \n",
    "import numpy as np # Linear algebra\n",
    "import matplotlib.pyplot as plt\n",
    "%matplotlib inline"
   ]
  },
  {
   "cell_type": "code",
   "execution_count": 10,
   "id": "de300fda",
   "metadata": {},
   "outputs": [],
   "source": [
    "def relu_activationFunction(number):\n",
    "    # condition\n",
    "    numberStore = []# list for stroing Value\n",
    "    for i in number:\n",
    "        initialValue = 0 \n",
    "        if i > 0:\n",
    "            initialValue = i\n",
    "        numberStore.append(initialValue)\n",
    "    return numberStore"
   ]
  },
  {
   "cell_type": "code",
   "execution_count": 11,
   "id": "14fbf37a",
   "metadata": {},
   "outputs": [
    {
     "data": {
      "image/png": "[encoded data removed]",
      "text/plain": [
       "<Figure size 432x288 with 1 Axes>"
      ]
     },
     "metadata": {
      "needs_background": "light"
     },
     "output_type": "display_data"
    }
   ],
   "source": [
    "randomMNumber = np.arange(-20.0, 20.0, 0.2) # continiues value\n",
    "relu_line = relu_activationFunction(randomMNumber)\n",
    "plt.plot(randomMNumber, relu_line)\n",
    "\n",
    "# axis\n",
    "ax =plt.gca()\n",
    "plt.show()"
   ]
  },
  {
   "cell_type": "markdown",
   "id": "4bc04d9c",
   "metadata": {},
   "source": [
    "### 3. Sigmoid Action Function"
   ]
  },
  {
   "cell_type": "code",
   "execution_count": 12,
   "id": "0d67a34f",
   "metadata": {},
   "outputs": [],
   "source": [
    "import math \n",
    "import numpy as np # Linear algebra\n",
    "import matplotlib.pyplot as plt\n",
    "%matplotlib inline"
   ]
  },
  {
   "cell_type": "code",
   "execution_count": 13,
   "id": "60db42d8",
   "metadata": {},
   "outputs": [],
   "source": [
    "def sigmoidFunction(number):\n",
    "    #binary Activation Function\n",
    "    sigmidDataStore = []\n",
    "    for i in number:\n",
    "        each_result = 1 / (1 + math.exp(-i))\n",
    "        #result = 1 / (1 + np.exp(-1))\n",
    "        #1 / (1 + e^-x)\n",
    "        sigmidDataStore.append(each_result)\n",
    "    return sigmidDataStore"
   ]
  },
  {
   "cell_type": "code",
   "execution_count": 14,
   "id": "484f97da",
   "metadata": {},
   "outputs": [
    {
     "data": {
      "image/png": "[encoded data removed]",
      "text/plain": [
       "<Figure size 432x288 with 1 Axes>"
      ]
     },
     "metadata": {
      "needs_background": "light"
     },
     "output_type": "display_data"
    }
   ],
   "source": [
    "randomMNumber = np.arange(-20.0, 20.0, 0.2) # continiues value\n",
    "sigmoid_plot = sigmoidFunction(randomMNumber)\n",
    "plt.plot(randomMNumber, sigmoid_plot)\n",
    "\n",
    "# axis\n",
    "ax =plt.gca()\n",
    "plt.show()"
   ]
  },
  {
   "cell_type": "markdown",
   "id": "dac91345",
   "metadata": {},
   "source": [
    "### 4. tanh(tangent hyperbolic) Activation Function"
   ]
  },
  {
   "cell_type": "code",
   "execution_count": 15,
   "id": "466bad2f",
   "metadata": {},
   "outputs": [],
   "source": [
    "import math \n",
    "import numpy as np # Linear algebra\n",
    "import matplotlib.pyplot as plt\n",
    "%matplotlib inline"
   ]
  },
  {
   "cell_type": "code",
   "execution_count": 16,
   "id": "c02c493a",
   "metadata": {},
   "outputs": [],
   "source": [
    "def tanhActivationFunctions(number):\n",
    "    tanhvalue = []\n",
    "    for i in number:\n",
    "        tanhvalue.append(math.tanh(i))\n",
    "    return tanhvalue"
   ]
  },
  {
   "cell_type": "code",
   "execution_count": 17,
   "id": "9bf37c9d",
   "metadata": {},
   "outputs": [],
   "source": [
    "def tanhActivationFunctions2(number):\n",
    "    tanhvalue = []\n",
    "    for i in number:\n",
    "        initialValue = 0\n",
    "        if i < 0:\n",
    "            initialValue = -1\n",
    "            tanhvalue.append(initialValue)\n",
    "        elif i> 0:\n",
    "            initialValue = 1\n",
    "            tanhvalue.append(initialValue)\n",
    "            \n",
    "    return tanhvalue"
   ]
  },
  {
   "cell_type": "code",
   "execution_count": 18,
   "id": "f35d0b0b",
   "metadata": {},
   "outputs": [
    {
     "data": {
      "image/png": "[encoded data removed]",
      "text/plain": [
       "<Figure size 432x288 with 1 Axes>"
      ]
     },
     "metadata": {
      "needs_background": "light"
     },
     "output_type": "display_data"
    }
   ],
   "source": [
    "randomMNumber = np.arange(-20.0, 20.0, 0.2) # continiues value\n",
    "tanhPlot = tanhActivationFunctions(randomMNumber)\n",
    "plt.plot(randomMNumber, tanhPlot)\n",
    "\n",
    "# axis\n",
    "ax =plt.gca()\n",
    "plt.show()"
   ]
  },
  {
   "cell_type": "markdown",
   "id": "c1cb0ea3",
   "metadata": {},
   "source": [
    "### 5. Softmax Activation Function"
   ]
  },
  {
   "cell_type": "code",
   "execution_count": 19,
   "id": "e57bfc68",
   "metadata": {},
   "outputs": [],
   "source": [
    "import numpy as np\n",
    "import matplotlib.pyplot as plt\n",
    "%matplotlib inline\n"
   ]
  },
  {
   "cell_type": "code",
   "execution_count": 20,
   "id": "f7406e79",
   "metadata": {},
   "outputs": [],
   "source": [
    "def softmaxActivationFunction(number):\n",
    "    expValue = np.exp(number)\n",
    "    return expValue / expValue.sum()"
   ]
  },
  {
   "cell_type": "code",
   "execution_count": 21,
   "id": "7d30622b",
   "metadata": {},
   "outputs": [],
   "source": [
    "a = [0, 1, 2, 3, 4, 5] # probability distribution\n",
    "activationValue = softmaxActivationFunction(a)"
   ]
  },
  {
   "cell_type": "code",
   "execution_count": 22,
   "id": "ed2b1433",
   "metadata": {},
   "outputs": [
    {
     "data": {
      "text/plain": [
       "array([0.00426978, 0.01160646, 0.03154963, 0.08576079, 0.23312201,\n",
       "       0.63369132])"
      ]
     },
     "execution_count": 22,
     "metadata": {},
     "output_type": "execute_result"
    }
   ],
   "source": [
    "activationValue"
   ]
  },
  {
   "cell_type": "code",
   "execution_count": 23,
   "id": "717ce033",
   "metadata": {},
   "outputs": [
    {
     "data": {
      "image/png": "[encoded data removed]",
      "text/plain": [
       "<Figure size 432x288 with 1 Axes>"
      ]
     },
     "metadata": {
      "needs_background": "light"
     },
     "output_type": "display_data"
    }
   ],
   "source": [
    "plt.plot(a, activationValue)\n",
    "\n",
    "# axis\n",
    "ax =plt.gca()\n",
    "plt.show()"
   ]
  },
  {
   "cell_type": "code",
   "execution_count": null,
   "id": "e14c93b9",
   "metadata": {},
   "outputs": [],
   "source": []
  }
 ],
 "metadata": {
  "kernelspec": {
   "display_name": "Python 3 (ipykernel)",
   "language": "python",
   "name": "python3"
  },
  "language_info": {
   "codemirror_mode": {
    "name": "ipython",
    "version": 3
   },
   "file_extension": ".py",
   "mimetype": "text/x-python",
   "name": "python",
   "nbconvert_exporter": "python",
   "pygments_lexer": "ipython3",
   "version": "3.9.12"
  }
 },
 "nbformat": 4,
 "nbformat_minor": 5
}
